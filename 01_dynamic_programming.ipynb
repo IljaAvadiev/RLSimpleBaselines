{
 "cells": [
  {
   "cell_type": "markdown",
   "metadata": {},
   "source": [
    "# Dynamic Programming"
   ]
  },
  {
   "cell_type": "code",
   "execution_count": 1,
   "metadata": {},
   "outputs": [],
   "source": [
    "import numpy as np\n",
    "import gym\n",
    "import matplotlib.pyplot as plt\n",
    "import random"
   ]
  },
  {
   "cell_type": "markdown",
   "metadata": {},
   "source": [
    "## Helper Functions"
   ]
  },
  {
   "cell_type": "code",
   "execution_count": 2,
   "metadata": {},
   "outputs": [],
   "source": [
    "def print_policy(pi, nS, n_cols,\n",
    "                 name='Frozen Lake Random Strategy',\n",
    "                 terminal_states=[5, 7, 11, 12, 15],\n",
    "                 actions_mapping={0: '\\u2190', 1: '\\u2193', 2: '\\u2192', 3: '\\u2191'}):\n",
    "    '''\n",
    "    Prints a policy for a gridworld\n",
    "    \n",
    "    Args:\n",
    "        pi:               policy\n",
    "        nS:               number of states in the gridworld\n",
    "        n_cols:           number of columns in the gridworld\n",
    "        name:             name of the policy\n",
    "        terminal_states:  list of all states that lead to itself with 100%\n",
    "        actions_mapping:  list of symbols to print instead of integers\n",
    "        \n",
    "    Returns: \n",
    "        None\n",
    "    '''\n",
    "    print('\\n')\n",
    "    print('\\033[1m' + name + '\\033[0m')\n",
    "    print('\\n')\n",
    "    for state in range(nS):\n",
    "        end = '\\n' if (state + 1) % n_cols == 0 else ' '\n",
    "        \n",
    "        if state in terminal_states:\n",
    "            print('\\u25A0'.rjust(10), end=end)\n",
    "            continue\n",
    "        \n",
    "        action = pi(state)\n",
    "        print(actions_mapping[action].rjust(10), end=end)\n",
    "\n",
    "def print_state_value_func(V, n_cols):\n",
    "    '''\n",
    "    Prints a state value function of a grid world\n",
    "    \n",
    "    Args:\n",
    "        V:       state value function of a grid world\n",
    "        n_cols:  number of columns in the grid world\n",
    "    Returns: \n",
    "        None\n",
    "    '''\n",
    "    \n",
    "    for state in range(len(V)):\n",
    "        end = '\\n' if (state + 1) % n_cols == 0 else ' '\n",
    "        value = V[state]\n",
    "        print(f'{value:.5f}', end=end)"
   ]
  },
  {
   "cell_type": "markdown",
   "metadata": {},
   "source": [
    "## Policy Iteration"
   ]
  },
  {
   "cell_type": "code",
   "execution_count": 3,
   "metadata": {},
   "outputs": [],
   "source": [
    "# policy evaluation\n",
    "def policy_evaluation(pi, env, gamma=1.0, delta=1e-10):\n",
    "    '''\n",
    "    Calculate the value function of a given policy pi\n",
    "    \n",
    "    Args: \n",
    "        pi:      policy to be evaluated (returns an action given a state)\n",
    "        env:     openai gym environment\n",
    "        gamma:   discount factor\n",
    "        delta:   threshhold value to interrupt the policy evaluation\n",
    "    \n",
    "    Returns: \n",
    "        State value function V\n",
    "    '''\n",
    "    # P represents environment dynamics, including transition probabilities\n",
    "    # P[state][action] = list of: probability of transition into next state, next state, reward, final state flag\n",
    "    P = env.env.P \n",
    "    nS = env.observation_space.n\n",
    "    \n",
    "    # initialize a value function with 0\n",
    "    V = np.zeros(nS, dtype=np.float64)\n",
    "    V_old = V.copy()    \n",
    "    while True:\n",
    "        for state in range(nS):\n",
    "            action = pi(state)\n",
    "            v = 0\n",
    "            for pr, next_state, reward, done in P[state][action]:\n",
    "                v += pr * (reward + gamma * V[next_state] * (not done))\n",
    "            V[state] = v\n",
    "        \n",
    "        max_diff = np.max(np.abs(V_old - V))\n",
    "        if max_diff < delta:\n",
    "            break\n",
    "        \n",
    "        V_old = V.copy()\n",
    "    return V"
   ]
  },
  {
   "cell_type": "code",
   "execution_count": 4,
   "metadata": {},
   "outputs": [],
   "source": [
    "# policy improvement\n",
    "def policy_improvement(env, V, gamma=1.0):\n",
    "    '''\n",
    "    Improve an existing strategy by acting greedily\n",
    "    \n",
    "    Args: \n",
    "        env:     openai gym environment\n",
    "        V:       state value function of a given policy\n",
    "        gamma:   discount factor\n",
    "    \n",
    "    Returns: \n",
    "        pi:      a policy acting greedily using the value function of the current policy\n",
    "    \n",
    "    '''\n",
    "    nS = env.observation_space.n\n",
    "    nA = env.action_space.n\n",
    "    P = env.env.P\n",
    "    Q = np.zeros((nS, nA))\n",
    "    \n",
    "    for state in range(nS):\n",
    "        for action in range(nA):\n",
    "            for pr, next_state, reward, done in P[state][action]:\n",
    "                Q[state][action] += pr * (reward + gamma * V[next_state] * (not done))\n",
    "    \n",
    "    \n",
    "    greedy_strategy = {s:a for s, a in enumerate(np.argmax(Q, axis=1))}\n",
    "    \n",
    "    def pi(s):\n",
    "        return greedy_strategy[s]\n",
    "    \n",
    "    return pi"
   ]
  },
  {
   "cell_type": "code",
   "execution_count": 28,
   "metadata": {},
   "outputs": [
    {
     "ename": "SyntaxError",
     "evalue": "invalid syntax (<ipython-input-28-96e45f172dea>, line 2)",
     "output_type": "error",
     "traceback": [
      "\u001b[0;36m  File \u001b[0;32m\"<ipython-input-28-96e45f172dea>\"\u001b[0;36m, line \u001b[0;32m2\u001b[0m\n\u001b[0;31m    def policy_iteration(pi, env, gamma=1, delta=1e-10)\u001b[0m\n\u001b[0m                                                       ^\u001b[0m\n\u001b[0;31mSyntaxError\u001b[0m\u001b[0;31m:\u001b[0m invalid syntax\n"
     ]
    }
   ],
   "source": [
    "# policy iteration\n",
    "def policy_iteration(pi, env, gamma=1, delta=1e-10):\n",
    "    '''\n",
    "    Finds an optimal policy \n",
    "    \n",
    "    Args: \n",
    "        pi:      starting policy\n",
    "        env:     openai gym environment\n",
    "        gamma:   discount factor\n",
    "        delta:   threshhold value to interrupt the policy evaluation\n",
    "    \n",
    "    Returns: \n",
    "        Optimal policy and value function\n",
    "    '''\n",
    "    \n",
    "    \n",
    "    old_strategy = {s: pi(s) for s in range(env.observation_space.n)}\n",
    "    \n",
    "    while True:\n",
    "        V = policy_evaluation(pi, env, gamma, delta)\n",
    "        new_pi = policy_improvement(env, V, gamma)\n",
    "        new_strategy = {s: new_pi(s) for s in range(env.observation_space.n)}\n",
    "        \n",
    "        if old_strategy == new_strategy:\n",
    "            break\n",
    "            \n",
    "        old_strategy = new_strategy\n",
    "        pi = new_pi\n",
    "        \n",
    "    return new_pi, policy_evaluation(new_pi, env, gamma, delta)"
   ]
  },
  {
   "cell_type": "markdown",
   "metadata": {},
   "source": [
    "## Value Iteration"
   ]
  },
  {
   "cell_type": "code",
   "execution_count": 84,
   "metadata": {},
   "outputs": [],
   "source": [
    "def value_iteration(env, gamma=1, delta=1e-10):\n",
    "    '''\n",
    "    Finds an optimal policy\n",
    "    \n",
    "    Args: \n",
    "        env:     openai gym environment\n",
    "        gamma:   discount factor\n",
    "        delta:   threshhold value to interrupt the policy evaluation\n",
    "    \n",
    "    Returns: \n",
    "        Optimal policy and value function\n",
    "    ''' \n",
    "    nS = env.observation_space.n\n",
    "    nA = env.action_space.n\n",
    "    V = np.zeros(nS, dtype=np.float64)\n",
    "    P = env.env.P\n",
    "    \n",
    "    while True:\n",
    "        V_old = V.copy()\n",
    "        Q = np.zeros(shape=(nS, nA), dtype=np.float64)\n",
    "        for state in range(nS):\n",
    "            for action in range(nA):\n",
    "                for pr, next_state, reward, done in P[state][action]:\n",
    "                    Q[state][action] += pr * (reward + gamma * V[next_state] * (not done))\n",
    "        V = np.max(Q, axis=1)\n",
    "        max_diff = np.max(np.abs(V_old - V))\n",
    "        if max_diff < delta:\n",
    "            break\n",
    "\n",
    "    strategy = {s: a for s, a in enumerate(np.argmax(Q, axis=1))}\n",
    "    def pi(s):\n",
    "        return strategy[s]\n",
    "    \n",
    "    return pi, V"
   ]
  },
  {
   "cell_type": "markdown",
   "metadata": {},
   "source": [
    "## Random Policy"
   ]
  },
  {
   "cell_type": "code",
   "execution_count": 7,
   "metadata": {},
   "outputs": [],
   "source": [
    "random.seed(42)\n",
    "\n",
    "# random policy\n",
    "def create_random_policy(nS, nA):\n",
    "    \n",
    "    '''\n",
    "    Generates a random policy for a gridworld\n",
    "    \n",
    "    Args:\n",
    "        nS: Number of states in a gridworld\n",
    "        nA: Number of actions in a state\n",
    "    \n",
    "    Returns:\n",
    "        random policy\n",
    "    '''\n",
    "    \n",
    "    policy = {}\n",
    "    for i in range(nS):\n",
    "        policy[i] = random.randint(0, nA-1)\n",
    "    \n",
    "    def random_policy(s): \n",
    "        return policy[s]\n",
    "    \n",
    "    return random_policy"
   ]
  },
  {
   "cell_type": "markdown",
   "metadata": {},
   "source": [
    "## Frozen Lake"
   ]
  },
  {
   "cell_type": "code",
   "execution_count": 8,
   "metadata": {},
   "outputs": [],
   "source": [
    "env = gym.make('FrozenLake-v0')"
   ]
  },
  {
   "cell_type": "code",
   "execution_count": 9,
   "metadata": {
    "scrolled": true
   },
   "outputs": [
    {
     "name": "stdout",
     "output_type": "stream",
     "text": [
      "\n",
      "\u001b[41mS\u001b[0mFFF\n",
      "FHFH\n",
      "FFFH\n",
      "HFFG\n"
     ]
    }
   ],
   "source": [
    "env.render()"
   ]
  },
  {
   "cell_type": "code",
   "execution_count": 10,
   "metadata": {},
   "outputs": [],
   "source": [
    "random_policy = create_random_policy(env.observation_space.n, env.action_space.n)"
   ]
  },
  {
   "cell_type": "code",
   "execution_count": 11,
   "metadata": {},
   "outputs": [],
   "source": [
    "V = policy_evaluation(random_policy, env)"
   ]
  },
  {
   "cell_type": "code",
   "execution_count": 12,
   "metadata": {},
   "outputs": [
    {
     "name": "stdout",
     "output_type": "stream",
     "text": [
      "\n",
      "\n",
      "\u001b[1mFrozen Lake Random Strategy\u001b[0m\n",
      "\n",
      "\n",
      "         ←          ←          →          ↓\n",
      "         ↓          ■          ←          ■\n",
      "         ↑          ←          ←          ■\n",
      "         ■          ↓          ←          ■\n"
     ]
    }
   ],
   "source": [
    "print_policy(random_policy, 16, 4)"
   ]
  },
  {
   "cell_type": "markdown",
   "metadata": {},
   "source": [
    "The random policy performs rather poorly."
   ]
  },
  {
   "cell_type": "code",
   "execution_count": 13,
   "metadata": {},
   "outputs": [
    {
     "name": "stdout",
     "output_type": "stream",
     "text": [
      "0.00000 0.00000 0.00000 0.00000\n",
      "0.00000 0.00000 0.00000 0.00000\n",
      "0.00000 0.00000 0.00000 0.00000\n",
      "0.00000 0.00000 0.00000 0.00000\n"
     ]
    }
   ],
   "source": [
    "print_state_value_func(V, 4)"
   ]
  },
  {
   "cell_type": "markdown",
   "metadata": {},
   "source": [
    "After a single step of policy improvement "
   ]
  },
  {
   "cell_type": "code",
   "execution_count": 14,
   "metadata": {},
   "outputs": [],
   "source": [
    "new_policy = policy_improvement(env, V)"
   ]
  },
  {
   "cell_type": "code",
   "execution_count": 15,
   "metadata": {},
   "outputs": [],
   "source": [
    "V = policy_evaluation(new_policy, env)"
   ]
  },
  {
   "cell_type": "code",
   "execution_count": 16,
   "metadata": {},
   "outputs": [
    {
     "name": "stdout",
     "output_type": "stream",
     "text": [
      "\n",
      "\n",
      "\u001b[1mImproved Policy\u001b[0m\n",
      "\n",
      "\n",
      "         ←          ←          ←          ←\n",
      "         ←          ■          ←          ■\n",
      "         ←          ←          ←          ■\n",
      "         ■          ←          ↓          ■\n"
     ]
    }
   ],
   "source": [
    "print_policy(new_policy, 16, 4, name='Improved Policy')"
   ]
  },
  {
   "cell_type": "code",
   "execution_count": 17,
   "metadata": {},
   "outputs": [
    {
     "name": "stdout",
     "output_type": "stream",
     "text": [
      "0.00000 0.00000 0.03846 0.01923\n",
      "0.00000 0.00000 0.07692 0.00000\n",
      "0.00000 0.00000 0.19231 0.00000\n",
      "0.00000 0.00000 0.50000 0.00000\n"
     ]
    }
   ],
   "source": [
    "print_state_value_func(V, 4)"
   ]
  },
  {
   "cell_type": "code",
   "execution_count": 33,
   "metadata": {},
   "outputs": [],
   "source": [
    "pi, V = policy_iteration(random_policy, env, gamma=0.99)"
   ]
  },
  {
   "cell_type": "code",
   "execution_count": 34,
   "metadata": {},
   "outputs": [
    {
     "name": "stdout",
     "output_type": "stream",
     "text": [
      "\n",
      "\n",
      "\u001b[1mOptimal Policy through policy iteration\u001b[0m\n",
      "\n",
      "\n",
      "         ←          ↑          ↑          ↑\n",
      "         ←          ■          ←          ■\n",
      "         ↑          ↓          ←          ■\n",
      "         ■          →          ↓          ■\n"
     ]
    }
   ],
   "source": [
    "print_policy(pi, 16, 4, name='Optimal Policy through policy iteration')"
   ]
  },
  {
   "cell_type": "code",
   "execution_count": 35,
   "metadata": {},
   "outputs": [
    {
     "name": "stdout",
     "output_type": "stream",
     "text": [
      "0.54203 0.49880 0.47070 0.45685\n",
      "0.55845 0.00000 0.35835 0.00000\n",
      "0.59180 0.64308 0.61521 0.00000\n",
      "0.00000 0.74172 0.86284 0.00000\n"
     ]
    }
   ],
   "source": [
    "print_state_value_func(V, 4)"
   ]
  },
  {
   "cell_type": "code",
   "execution_count": 36,
   "metadata": {},
   "outputs": [],
   "source": [
    "pi, V = value_iteration(env, gamma=0.99)"
   ]
  },
  {
   "cell_type": "code",
   "execution_count": 37,
   "metadata": {},
   "outputs": [
    {
     "name": "stdout",
     "output_type": "stream",
     "text": [
      "\n",
      "\n",
      "\u001b[1mOptimal Policy through value iteration\u001b[0m\n",
      "\n",
      "\n",
      "         ←          ↑          ↑          ↑\n",
      "         ←          ■          ←          ■\n",
      "         ↑          ↓          ←          ■\n",
      "         ■          →          ↓          ■\n"
     ]
    }
   ],
   "source": [
    "print_policy(pi, 16, 4, name='Optimal Policy through value iteration')"
   ]
  },
  {
   "cell_type": "code",
   "execution_count": 38,
   "metadata": {},
   "outputs": [
    {
     "name": "stdout",
     "output_type": "stream",
     "text": [
      "0.54203 0.49880 0.47070 0.45685\n",
      "0.55845 0.00000 0.35835 0.00000\n",
      "0.59180 0.64308 0.61521 0.00000\n",
      "0.00000 0.74172 0.86284 0.00000\n"
     ]
    }
   ],
   "source": [
    "print_state_value_func(V, 4)"
   ]
  },
  {
   "cell_type": "markdown",
   "metadata": {},
   "source": [
    "## Taxi"
   ]
  },
  {
   "cell_type": "code",
   "execution_count": 63,
   "metadata": {},
   "outputs": [
    {
     "name": "stdout",
     "output_type": "stream",
     "text": [
      "+---------+\n",
      "|R: | : :\u001b[35mG\u001b[0m|\n",
      "| : | : : |\n",
      "| : : : : |\n",
      "|\u001b[43m \u001b[0m| : | : |\n",
      "|\u001b[34;1mY\u001b[0m| : |B: |\n",
      "+---------+\n",
      "\n"
     ]
    }
   ],
   "source": [
    "env = gym.make('Taxi-v3')\n",
    "env.render()"
   ]
  },
  {
   "cell_type": "code",
   "execution_count": 85,
   "metadata": {},
   "outputs": [],
   "source": [
    "pi, V = value_iteration(env, gamma=0.99)"
   ]
  },
  {
   "cell_type": "code",
   "execution_count": 92,
   "metadata": {
    "scrolled": true
   },
   "outputs": [
    {
     "name": "stdout",
     "output_type": "stream",
     "text": [
      "+---------+\n",
      "|R: | : :G|\n",
      "| : | : : |\n",
      "| : : : : |\n",
      "| | : | : |\n",
      "|\u001b[35m\u001b[42mY\u001b[0m\u001b[0m| : |B: |\n",
      "+---------+\n",
      "  (South)\n"
     ]
    }
   ],
   "source": [
    "# Play an episode\n",
    "from IPython.display import clear_output\n",
    "from time import sleep\n",
    "obs, done = env.reset(), False\n",
    "while not done:\n",
    "    sleep(0.5)\n",
    "    clear_output(wait=True)\n",
    "    env.render()\n",
    "    action = pi(obs)\n",
    "    next_obs, reward, done, _ = env.step(action)\n",
    "    obs = next_obs\n"
   ]
  },
  {
   "cell_type": "code",
   "execution_count": null,
   "metadata": {},
   "outputs": [],
   "source": []
  }
 ],
 "metadata": {
  "kernelspec": {
   "display_name": "Python 3",
   "language": "python",
   "name": "python3"
  },
  "language_info": {
   "codemirror_mode": {
    "name": "ipython",
    "version": 3
   },
   "file_extension": ".py",
   "mimetype": "text/x-python",
   "name": "python",
   "nbconvert_exporter": "python",
   "pygments_lexer": "ipython3",
   "version": "3.8.5"
  }
 },
 "nbformat": 4,
 "nbformat_minor": 4
}
