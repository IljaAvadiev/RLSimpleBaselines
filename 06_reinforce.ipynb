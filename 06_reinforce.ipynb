{
 "cells": [
  {
   "cell_type": "code",
   "execution_count": 1,
   "metadata": {},
   "outputs": [],
   "source": [
    "import torch\n",
    "import torch.nn as nn\n",
    "import torch.nn.functional as F\n",
    "import torch.optim as optim\n",
    "from torch.distributions.categorical import Categorical\n",
    "\n",
    "import numpy as np\n",
    "\n",
    "import gym"
   ]
  },
  {
   "cell_type": "code",
   "execution_count": 2,
   "metadata": {},
   "outputs": [],
   "source": [
    "# Policy\n",
    "class Policy(nn.Module):\n",
    "    def __init__(self, input_dim, hidden_dims, output_dim, lr=0.001):\n",
    "        super(Policy, self).__init__()\n",
    "        self.fc1 = nn.Linear(input_dim, hidden_dims[0])\n",
    "        self.hidden = nn.ModuleList(\n",
    "            [nn.Linear(hidden_dims[i], hidden_dims[i+1]) for i in range(len(hidden_dims)-1)]\n",
    "        )\n",
    "        self.fc2 = nn.Linear(hidden_dims[-1], output_dim)\n",
    "        \n",
    "        self.device = torch.device('cuda:0' if torch.cuda.is_available() else 'cpu')\n",
    "        self.to(self.device)\n",
    "        \n",
    "        self.optimizer = optim.Adam(self.parameters(), lr=lr)\n",
    "    \n",
    "    def forward(self, state):\n",
    "        x = torch.tensor(state, dtype=torch.float32).to(self.device)\n",
    "        x = F.relu(self.fc1(x))\n",
    "        for hidden in self.hidden:\n",
    "            x = F.relu(hidden(x))\n",
    "        x = self.fc2(x)\n",
    "        return x\n",
    "    \n",
    "    def select_action(self, state):\n",
    "        with torch.no_grad():\n",
    "            logits = self.forward(state)\n",
    "            distribution = Categorical(logits=logits)\n",
    "            action = distribution.sample()\n",
    "\n",
    "            return action\n",
    "        \n",
    "    def full_pass(self, state):\n",
    "        logits = self.forward(state)\n",
    "        distribution = Categorical(logits=logits)\n",
    "        action = distribution.sample()\n",
    "        log_prob = distribution.log_prob(action)\n",
    "        return action, log_prob"
   ]
  },
  {
   "cell_type": "code",
   "execution_count": 3,
   "metadata": {},
   "outputs": [],
   "source": [
    "# Value Function (only needed for VPG/Reinforce with baseline)\n",
    "class Value(nn.Module):\n",
    "    def __init__(self, input_dim, hidden_dims, lr=0.001):\n",
    "        super(Value, self).__init__()\n",
    "        self.fc1 = nn.Linear(input_dim, hidden_dims[0])\n",
    "        self.hidden = nn.ModuleList(\n",
    "            [nn.Linear(hidden_dims[i], hidden_dims[i+1]) for i in range(len(hidden_dims)-1)]\n",
    "        )\n",
    "        self.fc2 = nn.Linear(hidden_dims[-1], 1)\n",
    "        \n",
    "        self.optimizer = optim.Adam(self.parameters(), lr)\n",
    "        self.device = torch.device('cuda:0' if torch.cuda.is_available() else 'cpu')\n",
    "        self.to(self.device)\n",
    "    \n",
    "    def forward(self, state):\n",
    "        x = torch.tensor(state, dtype=torch.float32).to(self.device)\n",
    "        x = F.relu(self.fc1(x))\n",
    "        for hidden in self.hidden:\n",
    "            x = F.relu(hidden(x))\n",
    "        x = self.fc2(x)\n",
    "        return x"
   ]
  },
  {
   "cell_type": "code",
   "execution_count": 4,
   "metadata": {},
   "outputs": [],
   "source": [
    "# Agent\n",
    "class ReinforceAgent():\n",
    "    def __init__(self, input_dim, hidden_dims, output_dim, lr=0.001, gamma=0.99):\n",
    "        self.policy_model = Policy(input_dim, hidden_dims, output_dim, lr)\n",
    "        self.value_model = Value(input_dim, hidden_dims, lr)\n",
    "        self.gamma = gamma\n",
    "        self.reset()\n",
    "        \n",
    "    def reset(self):\n",
    "        self.log_probs = []\n",
    "        self.values = []\n",
    "    \n",
    "    def optimize(self, rewards):\n",
    "        trajectory_len = len(rewards)\n",
    "        gammas = np.array([self.gamma**i for i in range(trajectory_len)])\n",
    "        returns = np.array([np.sum(rewards[t:] * gammas[:trajectory_len-t]) for t in range(trajectory_len)])\n",
    "        returns = torch.tensor(returns, dtype=torch.float32).to(self.policy_model.device)\n",
    "        values = torch.vstack(self.values).squeeze(1)\n",
    "        advantages = returns - values\n",
    "        \n",
    "        self.log_probs = torch.vstack(self.log_probs).squeeze(1)\n",
    "        \n",
    "        loss = -(advantages.detach() * self.log_probs).mean()\n",
    "        \n",
    "        self.policy_model.optimizer.zero_grad()\n",
    "        loss.backward()\n",
    "        self.policy_model.optimizer.step()\n",
    "        \n",
    "        value_loss = advantages.pow(2).mean()\n",
    "        self.value_model.optimizer.zero_grad()\n",
    "        value_loss.backward()\n",
    "        self.value_model.optimizer.step()\n",
    "        \n",
    "        self.reset()\n",
    "    \n",
    "    def interract(self, state):\n",
    "        action, log_prob = self.policy_model.full_pass(state)\n",
    "        value = self.value_model(state)\n",
    "        self.log_probs.append(log_prob)\n",
    "        self.values.append(value)\n",
    "        return action.cpu().item()"
   ]
  },
  {
   "cell_type": "code",
   "execution_count": 5,
   "metadata": {},
   "outputs": [],
   "source": [
    "# main loop\n",
    "env = gym.make('LunarLander-v2')\n",
    "episodes = 3000\n",
    "\n",
    "observation_dims = env.observation_space.shape[0]\n",
    "actions_dims = env.action_space.n\n",
    "hidden_dims = (128, 64)\n",
    "lr = 0.0005\n",
    "gamma = 0.99"
   ]
  },
  {
   "cell_type": "code",
   "execution_count": 6,
   "metadata": {},
   "outputs": [
    {
     "name": "stdout",
     "output_type": "stream",
     "text": [
      "Episode: 2999, Mean of rewards: 115.376806894449134264\r"
     ]
    }
   ],
   "source": [
    "agent = ReinforceAgent(observation_dims, hidden_dims, actions_dims, lr=lr, gamma=gamma)\n",
    "\n",
    "rewards_history = []\n",
    "for episode in range(episodes):\n",
    "    obs, done = env.reset(), False\n",
    "    rewards = []\n",
    "    reward_sum = 0\n",
    "    while not done:\n",
    "        action = agent.interract(obs)\n",
    "        next_obs, reward, done, _ = env.step(action)\n",
    "        rewards.append(reward)\n",
    "        reward_sum += reward\n",
    "        obs = next_obs\n",
    "    agent.optimize(rewards)\n",
    "    rewards_history.append(reward_sum)\n",
    "    \n",
    "    if episode > 100:\n",
    "        mean = np.mean(rewards_history[-100:])\n",
    "        print(f'Episode: {episode}, Mean of rewards: {mean}', end='\\r')\n",
    "        if mean >= 200:\n",
    "            break"
   ]
  },
  {
   "cell_type": "code",
   "execution_count": 7,
   "metadata": {},
   "outputs": [
    {
     "data": {
      "text/plain": [
       "[<matplotlib.lines.Line2D at 0x7f33e5914790>]"
      ]
     },
     "execution_count": 7,
     "metadata": {},
     "output_type": "execute_result"
    },
    {
     "data": {
      "image/png": "[encoded data removed]",
      "text/plain": [
       "<Figure size 432x288 with 1 Axes>"
      ]
     },
     "metadata": {
      "needs_background": "light"
     },
     "output_type": "display_data"
    }
   ],
   "source": [
    "import matplotlib.pyplot as plt\n",
    "\n",
    "plt.plot(rewards_history)"
   ]
  },
  {
   "cell_type": "code",
   "execution_count": null,
   "metadata": {},
   "outputs": [],
   "source": []
  }
 ],
 "metadata": {
  "kernelspec": {
   "display_name": "Python 3",
   "language": "python",
   "name": "python3"
  },
  "language_info": {
   "codemirror_mode": {
    "name": "ipython",
    "version": 3
   },
   "file_extension": ".py",
   "mimetype": "text/x-python",
   "name": "python",
   "nbconvert_exporter": "python",
   "pygments_lexer": "ipython3",
   "version": "3.8.5"
  }
 },
 "nbformat": 4,
 "nbformat_minor": 4
}
