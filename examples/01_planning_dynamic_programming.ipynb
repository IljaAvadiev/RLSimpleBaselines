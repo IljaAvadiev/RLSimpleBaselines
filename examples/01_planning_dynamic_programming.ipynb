{
 "cells": [
  {
   "cell_type": "markdown",
   "metadata": {},
   "source": [
    "# Dynamic Programming"
   ]
  },
  {
   "cell_type": "code",
   "execution_count": 1,
   "metadata": {},
   "outputs": [],
   "source": [
    "import numpy as np\n",
    "import gym\n",
    "\n",
    "from IPython.display import clear_output\n",
    "from time import sleep\n",
    "\n",
    "#these helpers are located in a local folder\n",
    "from utils.helper import create_random_policy\n",
    "from utils.helper import print_policy, print_state_value_func"
   ]
  },
  {
   "cell_type": "markdown",
   "metadata": {},
   "source": [
    "## Policy Iteration"
   ]
  },
  {
   "cell_type": "code",
   "execution_count": 2,
   "metadata": {},
   "outputs": [],
   "source": [
    "# policy evaluation\n",
    "def policy_evaluation(pi, env, gamma=1.0, delta=1e-10):\n",
    "    '''\n",
    "    Calculate the value function of a given policy pi\n",
    "    \n",
    "    Args: \n",
    "        pi:      policy to be evaluated (returns an action given a state)\n",
    "        env:     openai gym environment\n",
    "        gamma:   discount factor\n",
    "        delta:   threshhold value to interrupt the policy evaluation\n",
    "    \n",
    "    Returns: \n",
    "        State value function V\n",
    "    '''\n",
    "    # P represents environment dynamics, including transition probabilities\n",
    "    # P[state][action] = list of: probability of transition into next state, next state, reward, final state flag\n",
    "    P = env.env.P \n",
    "    nS = env.observation_space.n\n",
    "    \n",
    "    # initialize a value function with 0\n",
    "    V = np.zeros(nS, dtype=np.float64)\n",
    "    V_old = V.copy()    \n",
    "    while True:\n",
    "        for state in range(nS):\n",
    "            action = pi(state)\n",
    "            v = 0\n",
    "            for pr, next_state, reward, done in P[state][action]:\n",
    "                v += pr * (reward + gamma * V[next_state] * (not done))\n",
    "            V[state] = v\n",
    "        \n",
    "        max_diff = np.max(np.abs(V_old - V))\n",
    "        if max_diff < delta:\n",
    "            break\n",
    "        \n",
    "        V_old = V.copy()\n",
    "    return V"
   ]
  },
  {
   "cell_type": "code",
   "execution_count": 3,
   "metadata": {},
   "outputs": [],
   "source": [
    "# policy improvement\n",
    "def policy_improvement(env, V, gamma=1.0):\n",
    "    '''\n",
    "    Improve an existing strategy by acting greedily\n",
    "    \n",
    "    Args: \n",
    "        env:     openai gym environment\n",
    "        V:       state value function of a given policy\n",
    "        gamma:   discount factor\n",
    "    \n",
    "    Returns: \n",
    "        pi:      a policy acting greedily using the value function of the current policy\n",
    "    \n",
    "    '''\n",
    "    nS = env.observation_space.n\n",
    "    nA = env.action_space.n\n",
    "    P = env.env.P\n",
    "    Q = np.zeros((nS, nA))\n",
    "    \n",
    "    for state in range(nS):\n",
    "        for action in range(nA):\n",
    "            for pr, next_state, reward, done in P[state][action]:\n",
    "                Q[state][action] += pr * (reward + gamma * V[next_state] * (not done))\n",
    "    \n",
    "    \n",
    "    greedy_strategy = {s:a for s, a in enumerate(np.argmax(Q, axis=1))}\n",
    "    \n",
    "    def pi(s):\n",
    "        return greedy_strategy[s]\n",
    "    \n",
    "    return pi"
   ]
  },
  {
   "cell_type": "code",
   "execution_count": 4,
   "metadata": {},
   "outputs": [],
   "source": [
    "# policy iteration\n",
    "def policy_iteration(pi, env, gamma=1, delta=1e-10):\n",
    "    '''\n",
    "    Finds an optimal policy \n",
    "    \n",
    "    Args: \n",
    "        pi:      starting policy\n",
    "        env:     openai gym environment\n",
    "        gamma:   discount factor\n",
    "        delta:   threshhold value to interrupt the policy evaluation\n",
    "    \n",
    "    Returns: \n",
    "        Optimal policy and value function\n",
    "    '''\n",
    "    \n",
    "    \n",
    "    old_strategy = {s: pi(s) for s in range(env.observation_space.n)}\n",
    "    \n",
    "    while True:\n",
    "        V = policy_evaluation(pi, env, gamma, delta)\n",
    "        new_pi = policy_improvement(env, V, gamma)\n",
    "        new_strategy = {s: new_pi(s) for s in range(env.observation_space.n)}\n",
    "        \n",
    "        if old_strategy == new_strategy:\n",
    "            break\n",
    "            \n",
    "        old_strategy = new_strategy\n",
    "        pi = new_pi\n",
    "        \n",
    "    return new_pi, policy_evaluation(new_pi, env, gamma, delta)"
   ]
  },
  {
   "cell_type": "markdown",
   "metadata": {},
   "source": [
    "## Value Iteration"
   ]
  },
  {
   "cell_type": "code",
   "execution_count": 5,
   "metadata": {},
   "outputs": [],
   "source": [
    "def value_iteration(env, gamma=1, delta=1e-10):\n",
    "    '''\n",
    "    Finds an optimal policy\n",
    "    \n",
    "    Args: \n",
    "        env:     openai gym environment\n",
    "        gamma:   discount factor\n",
    "        delta:   threshhold value to interrupt the policy evaluation\n",
    "    \n",
    "    Returns: \n",
    "        Optimal policy and value function\n",
    "    ''' \n",
    "    nS = env.observation_space.n\n",
    "    nA = env.action_space.n\n",
    "    V = np.zeros(nS, dtype=np.float64)\n",
    "    P = env.env.P\n",
    "    \n",
    "    while True:\n",
    "        V_old = V.copy()\n",
    "        Q = np.zeros(shape=(nS, nA), dtype=np.float64)\n",
    "        for state in range(nS):\n",
    "            for action in range(nA):\n",
    "                for pr, next_state, reward, done in P[state][action]:\n",
    "                    Q[state][action] += pr * (reward + gamma * V[next_state] * (not done))\n",
    "        V = np.max(Q, axis=1)\n",
    "        max_diff = np.max(np.abs(V_old - V))\n",
    "        if max_diff < delta:\n",
    "            break\n",
    "\n",
    "    strategy = {s: a for s, a in enumerate(np.argmax(Q, axis=1))}\n",
    "    def pi(s):\n",
    "        return strategy[s]\n",
    "    \n",
    "    return pi, V"
   ]
  },
  {
   "cell_type": "markdown",
   "metadata": {},
   "source": [
    "## Frozen Lake"
   ]
  },
  {
   "cell_type": "code",
   "execution_count": 26,
   "metadata": {},
   "outputs": [],
   "source": [
    "env = gym.make('FrozenLake-v0')"
   ]
  },
  {
   "cell_type": "code",
   "execution_count": 27,
   "metadata": {
    "scrolled": true
   },
   "outputs": [
    {
     "name": "stdout",
     "output_type": "stream",
     "text": [
      "\n",
      "\u001b[41mS\u001b[0mFFF\n",
      "FHFH\n",
      "FFFH\n",
      "HFFG\n"
     ]
    }
   ],
   "source": [
    "env.render()"
   ]
  },
  {
   "cell_type": "code",
   "execution_count": 28,
   "metadata": {},
   "outputs": [],
   "source": [
    "random_policy = create_random_policy(env.observation_space.n, env.action_space.n)"
   ]
  },
  {
   "cell_type": "code",
   "execution_count": 29,
   "metadata": {},
   "outputs": [],
   "source": [
    "V = policy_evaluation(random_policy, env)"
   ]
  },
  {
   "cell_type": "code",
   "execution_count": 30,
   "metadata": {},
   "outputs": [
    {
     "name": "stdout",
     "output_type": "stream",
     "text": [
      "\n",
      "\n",
      "\u001b[1mFrozen Lake random strategy\u001b[0m\n",
      "\n",
      "\n",
      "         ←          ←          →          ↓\n",
      "         ↓          ■          ←          ■\n",
      "         ↑          ←          ←          ■\n",
      "         ■          ↓          ←          ■\n"
     ]
    }
   ],
   "source": [
    "print_policy(random_policy, 16, 4, name='Frozen Lake random strategy')"
   ]
  },
  {
   "cell_type": "markdown",
   "metadata": {},
   "source": [
    "The random policy performs rather poorly."
   ]
  },
  {
   "cell_type": "code",
   "execution_count": 31,
   "metadata": {},
   "outputs": [
    {
     "name": "stdout",
     "output_type": "stream",
     "text": [
      "\n",
      "\n",
      "\u001b[1mFrozen Lake random strategy value function\u001b[0m\n",
      "\n",
      "\n",
      "0.00000 0.00000 0.00000 0.00000\n",
      "0.00000 0.00000 0.00000 0.00000\n",
      "0.00000 0.00000 0.00000 0.00000\n",
      "0.00000 0.00000 0.00000 0.00000\n"
     ]
    }
   ],
   "source": [
    "print_state_value_func(V, 4, 'Frozen Lake random strategy value function')"
   ]
  },
  {
   "cell_type": "markdown",
   "metadata": {},
   "source": [
    "After a single step of policy improvement "
   ]
  },
  {
   "cell_type": "code",
   "execution_count": 32,
   "metadata": {},
   "outputs": [],
   "source": [
    "new_policy = policy_improvement(env, V)"
   ]
  },
  {
   "cell_type": "code",
   "execution_count": 33,
   "metadata": {},
   "outputs": [],
   "source": [
    "V = policy_evaluation(new_policy, env)"
   ]
  },
  {
   "cell_type": "code",
   "execution_count": 34,
   "metadata": {},
   "outputs": [
    {
     "name": "stdout",
     "output_type": "stream",
     "text": [
      "\n",
      "\n",
      "\u001b[1mImproved policy\u001b[0m\n",
      "\n",
      "\n",
      "         ←          ←          ←          ←\n",
      "         ←          ■          ←          ■\n",
      "         ←          ←          ←          ■\n",
      "         ■          ←          ↓          ■\n"
     ]
    }
   ],
   "source": [
    "print_policy(new_policy, 16, 4, name='Improved policy')"
   ]
  },
  {
   "cell_type": "code",
   "execution_count": 35,
   "metadata": {},
   "outputs": [
    {
     "name": "stdout",
     "output_type": "stream",
     "text": [
      "\n",
      "\n",
      "\u001b[1mValue function: improved policy\u001b[0m\n",
      "\n",
      "\n",
      "0.00000 0.00000 0.03846 0.01923\n",
      "0.00000 0.00000 0.07692 0.00000\n",
      "0.00000 0.00000 0.19231 0.00000\n",
      "0.00000 0.00000 0.50000 0.00000\n"
     ]
    }
   ],
   "source": [
    "print_state_value_func(V, 4, 'Value function: improved policy')"
   ]
  },
  {
   "cell_type": "code",
   "execution_count": 36,
   "metadata": {},
   "outputs": [],
   "source": [
    "pi, V = policy_iteration(random_policy, env, gamma=0.99)"
   ]
  },
  {
   "cell_type": "code",
   "execution_count": 37,
   "metadata": {},
   "outputs": [
    {
     "name": "stdout",
     "output_type": "stream",
     "text": [
      "\n",
      "\n",
      "\u001b[1mOptimal policy by policy iteration\u001b[0m\n",
      "\n",
      "\n",
      "         ←          ↑          ↑          ↑\n",
      "         ←          ■          ←          ■\n",
      "         ↑          ↓          ←          ■\n",
      "         ■          →          ↓          ■\n"
     ]
    }
   ],
   "source": [
    "print_policy(pi, 16, 4, name='Optimal policy by policy iteration')"
   ]
  },
  {
   "cell_type": "code",
   "execution_count": 38,
   "metadata": {},
   "outputs": [
    {
     "name": "stdout",
     "output_type": "stream",
     "text": [
      "\n",
      "\n",
      "\u001b[1mOptimal value function by policy iteration\u001b[0m\n",
      "\n",
      "\n",
      "0.54203 0.49880 0.47070 0.45685\n",
      "0.55845 0.00000 0.35835 0.00000\n",
      "0.59180 0.64308 0.61521 0.00000\n",
      "0.00000 0.74172 0.86284 0.00000\n"
     ]
    }
   ],
   "source": [
    "print_state_value_func(V, 4, name='Optimal value function by policy iteration')"
   ]
  },
  {
   "cell_type": "code",
   "execution_count": 39,
   "metadata": {},
   "outputs": [],
   "source": [
    "pi, V = value_iteration(env, gamma=0.99)"
   ]
  },
  {
   "cell_type": "code",
   "execution_count": 40,
   "metadata": {},
   "outputs": [
    {
     "name": "stdout",
     "output_type": "stream",
     "text": [
      "\n",
      "\n",
      "\u001b[1mOptimal policy by value iteration\u001b[0m\n",
      "\n",
      "\n",
      "         ←          ↑          ↑          ↑\n",
      "         ←          ■          ←          ■\n",
      "         ↑          ↓          ←          ■\n",
      "         ■          →          ↓          ■\n"
     ]
    }
   ],
   "source": [
    "print_policy(pi, 16, 4, name='Optimal policy by value iteration')"
   ]
  },
  {
   "cell_type": "code",
   "execution_count": 41,
   "metadata": {},
   "outputs": [
    {
     "name": "stdout",
     "output_type": "stream",
     "text": [
      "\n",
      "\n",
      "\u001b[1mOptimal value function by value iteration\u001b[0m\n",
      "\n",
      "\n",
      "0.54203 0.49880 0.47070 0.45685\n",
      "0.55845 0.00000 0.35835 0.00000\n",
      "0.59180 0.64308 0.61521 0.00000\n",
      "0.00000 0.74172 0.86284 0.00000\n"
     ]
    }
   ],
   "source": [
    "print_state_value_func(V, 4, name=\"Optimal value function by value iteration\")"
   ]
  },
  {
   "cell_type": "code",
   "execution_count": 46,
   "metadata": {},
   "outputs": [
    {
     "name": "stdout",
     "output_type": "stream",
     "text": [
      "  (Down)\n",
      "SFFF\n",
      "FHFH\n",
      "FFFH\n",
      "HFF\u001b[41mG\u001b[0m\n"
     ]
    }
   ],
   "source": [
    "#Play an episode of frozen lake\n",
    "obs, done = env.reset(), False\n",
    "env.render()\n",
    "while not done:\n",
    "    sleep(0.5)\n",
    "    clear_output(wait=True)\n",
    "    action = pi(obs)\n",
    "    next_obs, reward, done, _ = env.step(action)\n",
    "    obs = next_obs\n",
    "    env.render()"
   ]
  },
  {
   "cell_type": "markdown",
   "metadata": {},
   "source": [
    "## Taxi"
   ]
  },
  {
   "cell_type": "code",
   "execution_count": 47,
   "metadata": {},
   "outputs": [
    {
     "name": "stdout",
     "output_type": "stream",
     "text": [
      "+---------+\n",
      "|\u001b[34;1mR\u001b[0m: | : :\u001b[35mG\u001b[0m|\n",
      "| : | : : |\n",
      "| : : : : |\n",
      "|\u001b[43m \u001b[0m| : | : |\n",
      "|Y| : |B: |\n",
      "+---------+\n",
      "\n"
     ]
    }
   ],
   "source": [
    "env = gym.make('Taxi-v3')\n",
    "env.render()"
   ]
  },
  {
   "cell_type": "code",
   "execution_count": 48,
   "metadata": {},
   "outputs": [],
   "source": [
    "pi, V = value_iteration(env, gamma=0.99)"
   ]
  },
  {
   "cell_type": "code",
   "execution_count": 49,
   "metadata": {
    "scrolled": true
   },
   "outputs": [
    {
     "name": "stdout",
     "output_type": "stream",
     "text": [
      "+---------+\n",
      "|\u001b[35m\u001b[34;1m\u001b[43mR\u001b[0m\u001b[0m\u001b[0m: | : :G|\n",
      "| : | : : |\n",
      "| : : : : |\n",
      "| | : | : |\n",
      "|Y| : |B: |\n",
      "+---------+\n",
      "  (Dropoff)\n"
     ]
    }
   ],
   "source": [
    "# Play an episode of taxi\n",
    "obs, done = env.reset(), False\n",
    "env.render()\n",
    "while not done:\n",
    "    sleep(0.5)\n",
    "    clear_output(wait=True)\n",
    "    action = pi(obs)\n",
    "    next_obs, reward, done, _ = env.step(action)\n",
    "    obs = next_obs\n",
    "    env.render()"
   ]
  },
  {
   "cell_type": "code",
   "execution_count": null,
   "metadata": {},
   "outputs": [],
   "source": []
  }
 ],
 "metadata": {
  "kernelspec": {
   "display_name": "Python 3",
   "language": "python",
   "name": "python3"
  },
  "language_info": {
   "codemirror_mode": {
    "name": "ipython",
    "version": 3
   },
   "file_extension": ".py",
   "mimetype": "text/x-python",
   "name": "python",
   "nbconvert_exporter": "python",
   "pygments_lexer": "ipython3",
   "version": "3.8.5"
  }
 },
 "nbformat": 4,
 "nbformat_minor": 4
}
