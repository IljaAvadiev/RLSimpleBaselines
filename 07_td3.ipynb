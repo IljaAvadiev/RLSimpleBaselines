{
 "cells": [
  {
   "cell_type": "code",
   "execution_count": null,
   "metadata": {},
   "outputs": [],
   "source": [
    "import gym\n",
    "from algorithms.deeprl.td3.agent import TD3\n",
    "import torch.optim as optim\n",
    "import torch.nn.functional as F\n",
    "import matplotlib.pyplot as plt"
   ]
  },
  {
   "cell_type": "code",
   "execution_count": null,
   "metadata": {},
   "outputs": [],
   "source": [
    "env = gym.make('LunarLanderContinuous-v2')\n",
    "nS = env.observation_space.shape[0]\n",
    "nA = env.action_space.shape[0]\n",
    "action_limit = env.action_space.high[0]\n",
    "max_action = env.action_space.high[0]\n",
    "min_action = env.action_space.low[0]"
   ]
  },
  {
   "cell_type": "code",
   "execution_count": null,
   "metadata": {},
   "outputs": [],
   "source": [
    "agent = TD3(\n",
    "    env, \n",
    "    nS, \n",
    "    nA, \n",
    "    action_limit,\n",
    "    min_action,\n",
    "    max_action,\n",
    "    hidden_dims=(400, 300),\n",
    "    activation=F.relu,\n",
    "    optimizer=optim.Adam, \n",
    "    pi_alpha=1e-4, \n",
    "    q_alpha=1e-3, \n",
    "    gamma=0.99, \n",
    "    tau=0.001, \n",
    "    max_memory_size=100000,\n",
    "    batch_size=64,\n",
    "    dir='tmp',\n",
    "    name='DDPG')"
   ]
  },
  {
   "cell_type": "code",
   "execution_count": null,
   "metadata": {},
   "outputs": [],
   "source": [
    "n_games=1000"
   ]
  },
  {
   "cell_type": "code",
   "execution_count": null,
   "metadata": {},
   "outputs": [],
   "source": [
    "results = agent.learn(n_games, warmup=100, target_reward=200, log=True)"
   ]
  },
  {
   "cell_type": "code",
   "execution_count": null,
   "metadata": {},
   "outputs": [],
   "source": []
  }
 ],
 "metadata": {
  "kernelspec": {
   "display_name": "Python 3",
   "language": "python",
   "name": "python3"
  },
  "language_info": {
   "codemirror_mode": {
    "name": "ipython",
    "version": 3
   },
   "file_extension": ".py",
   "mimetype": "text/x-python",
   "name": "python",
   "nbconvert_exporter": "python",
   "pygments_lexer": "ipython3",
   "version": "3.8.5"
  }
 },
 "nbformat": 4,
 "nbformat_minor": 4
}
