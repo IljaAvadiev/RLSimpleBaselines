{
 "cells": [
  {
   "cell_type": "code",
   "execution_count": null,
   "metadata": {},
   "outputs": [],
   "source": [
    "import gym\n",
    "from algorithms.deeprl.ppo.agent import PPO\n",
    "import torch.optim as optim\n",
    "import torch.nn.functional as F\n",
    "import matplotlib.pyplot as plt"
   ]
  },
  {
   "cell_type": "code",
   "execution_count": null,
   "metadata": {},
   "outputs": [],
   "source": [
    "env = gym.make('LunarLander-v2')\n",
    "nS = env.observation_space.shape[0]\n",
    "nA = env.action_space.n"
   ]
  },
  {
   "cell_type": "code",
   "execution_count": null,
   "metadata": {},
   "outputs": [],
   "source": [
    "agent = PPO(\n",
    "    env,\n",
    "    nS,\n",
    "    nA,\n",
    "    (128, 128),\n",
    "    activation=F.relu,\n",
    "    optimizer=optim.Adam,\n",
    "    pi_alpha=0.0005,\n",
    "    v_alpha=0.0007,\n",
    "    beta=0.01,\n",
    "    gamma=0.99,\n",
    "    tau=0.95,\n",
    "    clip_ratio=0.2,\n",
    "    horizon=1000,\n",
    "    epochs=10,\n",
    "    batch_size=64,\n",
    "    dir='tmp', \n",
    "    name='Lunar Lander PPO'\n",
    ")"
   ]
  },
  {
   "cell_type": "code",
   "execution_count": null,
   "metadata": {
    "scrolled": false
   },
   "outputs": [],
   "source": [
    "rewards_mean = agent.learn(max_episodes=30000, average_len=100, target_reward=200, log=True)"
   ]
  },
  {
   "cell_type": "code",
   "execution_count": null,
   "metadata": {},
   "outputs": [],
   "source": []
  }
 ],
 "metadata": {
  "kernelspec": {
   "display_name": "Python 3",
   "language": "python",
   "name": "python3"
  },
  "language_info": {
   "codemirror_mode": {
    "name": "ipython",
    "version": 3
   },
   "file_extension": ".py",
   "mimetype": "text/x-python",
   "name": "python",
   "nbconvert_exporter": "python",
   "pygments_lexer": "ipython3",
   "version": "3.8.5"
  }
 },
 "nbformat": 4,
 "nbformat_minor": 4
}
